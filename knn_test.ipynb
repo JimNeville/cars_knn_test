{
 "cells": [
  {
   "cell_type": "markdown",
   "metadata": {},
   "source": [
    "## Inspect and Clean/Preprocess Data"
   ]
  },
  {
   "cell_type": "code",
   "execution_count": 1,
   "metadata": {
    "scrolled": true
   },
   "outputs": [
    {
     "name": "stdout",
     "output_type": "stream",
     "text": [
      "(205, 26)\n"
     ]
    },
    {
     "data": {
      "text/html": [
       "<div>\n",
       "<style scoped>\n",
       "    .dataframe tbody tr th:only-of-type {\n",
       "        vertical-align: middle;\n",
       "    }\n",
       "\n",
       "    .dataframe tbody tr th {\n",
       "        vertical-align: top;\n",
       "    }\n",
       "\n",
       "    .dataframe thead th {\n",
       "        text-align: right;\n",
       "    }\n",
       "</style>\n",
       "<table border=\"1\" class=\"dataframe\">\n",
       "  <thead>\n",
       "    <tr style=\"text-align: right;\">\n",
       "      <th></th>\n",
       "      <th>symboling</th>\n",
       "      <th>normalized_losses</th>\n",
       "      <th>make</th>\n",
       "      <th>fuel_type</th>\n",
       "      <th>aspiration</th>\n",
       "      <th>doors</th>\n",
       "      <th>body_style</th>\n",
       "      <th>drivetrain</th>\n",
       "      <th>engine-location</th>\n",
       "      <th>wheel_base</th>\n",
       "      <th>length</th>\n",
       "      <th>width</th>\n",
       "      <th>height</th>\n",
       "      <th>curb_weight</th>\n",
       "      <th>engine_type</th>\n",
       "      <th>num_cylinders</th>\n",
       "      <th>engine_size</th>\n",
       "      <th>fuel_system</th>\n",
       "      <th>bore</th>\n",
       "      <th>stroke</th>\n",
       "      <th>compression_ratio</th>\n",
       "      <th>horsepower</th>\n",
       "      <th>peak_rpm</th>\n",
       "      <th>city_mpg</th>\n",
       "      <th>highway_mpg</th>\n",
       "      <th>price</th>\n",
       "    </tr>\n",
       "  </thead>\n",
       "  <tbody>\n",
       "    <tr>\n",
       "      <th>0</th>\n",
       "      <td>3</td>\n",
       "      <td>NaN</td>\n",
       "      <td>alfa-romero</td>\n",
       "      <td>gas</td>\n",
       "      <td>std</td>\n",
       "      <td>two</td>\n",
       "      <td>convertible</td>\n",
       "      <td>rwd</td>\n",
       "      <td>front</td>\n",
       "      <td>88.6</td>\n",
       "      <td>168.8</td>\n",
       "      <td>64.1</td>\n",
       "      <td>48.8</td>\n",
       "      <td>2548</td>\n",
       "      <td>dohc</td>\n",
       "      <td>four</td>\n",
       "      <td>130</td>\n",
       "      <td>mpfi</td>\n",
       "      <td>3.47</td>\n",
       "      <td>2.68</td>\n",
       "      <td>9.0</td>\n",
       "      <td>111.0</td>\n",
       "      <td>5000.0</td>\n",
       "      <td>21</td>\n",
       "      <td>27</td>\n",
       "      <td>13495.0</td>\n",
       "    </tr>\n",
       "    <tr>\n",
       "      <th>1</th>\n",
       "      <td>3</td>\n",
       "      <td>NaN</td>\n",
       "      <td>alfa-romero</td>\n",
       "      <td>gas</td>\n",
       "      <td>std</td>\n",
       "      <td>two</td>\n",
       "      <td>convertible</td>\n",
       "      <td>rwd</td>\n",
       "      <td>front</td>\n",
       "      <td>88.6</td>\n",
       "      <td>168.8</td>\n",
       "      <td>64.1</td>\n",
       "      <td>48.8</td>\n",
       "      <td>2548</td>\n",
       "      <td>dohc</td>\n",
       "      <td>four</td>\n",
       "      <td>130</td>\n",
       "      <td>mpfi</td>\n",
       "      <td>3.47</td>\n",
       "      <td>2.68</td>\n",
       "      <td>9.0</td>\n",
       "      <td>111.0</td>\n",
       "      <td>5000.0</td>\n",
       "      <td>21</td>\n",
       "      <td>27</td>\n",
       "      <td>16500.0</td>\n",
       "    </tr>\n",
       "    <tr>\n",
       "      <th>2</th>\n",
       "      <td>1</td>\n",
       "      <td>NaN</td>\n",
       "      <td>alfa-romero</td>\n",
       "      <td>gas</td>\n",
       "      <td>std</td>\n",
       "      <td>two</td>\n",
       "      <td>hatchback</td>\n",
       "      <td>rwd</td>\n",
       "      <td>front</td>\n",
       "      <td>94.5</td>\n",
       "      <td>171.2</td>\n",
       "      <td>65.5</td>\n",
       "      <td>52.4</td>\n",
       "      <td>2823</td>\n",
       "      <td>ohcv</td>\n",
       "      <td>six</td>\n",
       "      <td>152</td>\n",
       "      <td>mpfi</td>\n",
       "      <td>2.68</td>\n",
       "      <td>3.47</td>\n",
       "      <td>9.0</td>\n",
       "      <td>154.0</td>\n",
       "      <td>5000.0</td>\n",
       "      <td>19</td>\n",
       "      <td>26</td>\n",
       "      <td>16500.0</td>\n",
       "    </tr>\n",
       "    <tr>\n",
       "      <th>3</th>\n",
       "      <td>2</td>\n",
       "      <td>164.0</td>\n",
       "      <td>audi</td>\n",
       "      <td>gas</td>\n",
       "      <td>std</td>\n",
       "      <td>four</td>\n",
       "      <td>sedan</td>\n",
       "      <td>fwd</td>\n",
       "      <td>front</td>\n",
       "      <td>99.8</td>\n",
       "      <td>176.6</td>\n",
       "      <td>66.2</td>\n",
       "      <td>54.3</td>\n",
       "      <td>2337</td>\n",
       "      <td>ohc</td>\n",
       "      <td>four</td>\n",
       "      <td>109</td>\n",
       "      <td>mpfi</td>\n",
       "      <td>3.19</td>\n",
       "      <td>3.40</td>\n",
       "      <td>10.0</td>\n",
       "      <td>102.0</td>\n",
       "      <td>5500.0</td>\n",
       "      <td>24</td>\n",
       "      <td>30</td>\n",
       "      <td>13950.0</td>\n",
       "    </tr>\n",
       "    <tr>\n",
       "      <th>4</th>\n",
       "      <td>2</td>\n",
       "      <td>164.0</td>\n",
       "      <td>audi</td>\n",
       "      <td>gas</td>\n",
       "      <td>std</td>\n",
       "      <td>four</td>\n",
       "      <td>sedan</td>\n",
       "      <td>4wd</td>\n",
       "      <td>front</td>\n",
       "      <td>99.4</td>\n",
       "      <td>176.6</td>\n",
       "      <td>66.4</td>\n",
       "      <td>54.3</td>\n",
       "      <td>2824</td>\n",
       "      <td>ohc</td>\n",
       "      <td>five</td>\n",
       "      <td>136</td>\n",
       "      <td>mpfi</td>\n",
       "      <td>3.19</td>\n",
       "      <td>3.40</td>\n",
       "      <td>8.0</td>\n",
       "      <td>115.0</td>\n",
       "      <td>5500.0</td>\n",
       "      <td>18</td>\n",
       "      <td>22</td>\n",
       "      <td>17450.0</td>\n",
       "    </tr>\n",
       "  </tbody>\n",
       "</table>\n",
       "</div>"
      ],
      "text/plain": [
       "   symboling  normalized_losses         make fuel_type aspiration doors  \\\n",
       "0          3                NaN  alfa-romero       gas        std   two   \n",
       "1          3                NaN  alfa-romero       gas        std   two   \n",
       "2          1                NaN  alfa-romero       gas        std   two   \n",
       "3          2              164.0         audi       gas        std  four   \n",
       "4          2              164.0         audi       gas        std  four   \n",
       "\n",
       "    body_style drivetrain engine-location  wheel_base  length  width  height  \\\n",
       "0  convertible        rwd           front        88.6   168.8   64.1    48.8   \n",
       "1  convertible        rwd           front        88.6   168.8   64.1    48.8   \n",
       "2    hatchback        rwd           front        94.5   171.2   65.5    52.4   \n",
       "3        sedan        fwd           front        99.8   176.6   66.2    54.3   \n",
       "4        sedan        4wd           front        99.4   176.6   66.4    54.3   \n",
       "\n",
       "   curb_weight engine_type num_cylinders  engine_size fuel_system  bore  \\\n",
       "0         2548        dohc          four          130        mpfi  3.47   \n",
       "1         2548        dohc          four          130        mpfi  3.47   \n",
       "2         2823        ohcv           six          152        mpfi  2.68   \n",
       "3         2337         ohc          four          109        mpfi  3.19   \n",
       "4         2824         ohc          five          136        mpfi  3.19   \n",
       "\n",
       "   stroke  compression_ratio  horsepower  peak_rpm  city_mpg  highway_mpg  \\\n",
       "0    2.68                9.0       111.0    5000.0        21           27   \n",
       "1    2.68                9.0       111.0    5000.0        21           27   \n",
       "2    3.47                9.0       154.0    5000.0        19           26   \n",
       "3    3.40               10.0       102.0    5500.0        24           30   \n",
       "4    3.40                8.0       115.0    5500.0        18           22   \n",
       "\n",
       "     price  \n",
       "0  13495.0  \n",
       "1  16500.0  \n",
       "2  16500.0  \n",
       "3  13950.0  \n",
       "4  17450.0  "
      ]
     },
     "execution_count": 1,
     "metadata": {},
     "output_type": "execute_result"
    }
   ],
   "source": [
    "import pandas as pd\n",
    "import numpy as np\n",
    "import matplotlib.pyplot as plt\n",
    "%matplotlib inline\n",
    "\n",
    "cols = ['symboling', 'normalized_losses', 'make', 'fuel_type', \n",
    "        'aspiration', 'doors', 'body_style', 'drivetrain', 'engine-location', \n",
    "        'wheel_base', 'length', 'width', 'height', 'curb_weight', 'engine_type', \n",
    "        'num_cylinders', 'engine_size', 'fuel_system', 'bore', 'stroke', \n",
    "        'compression_ratio', 'horsepower', 'peak_rpm', 'city_mpg', 'highway_mpg', \n",
    "        'price']\n",
    "\n",
    "cars = pd.read_csv('imports-85.data', header=None, names=cols, na_values='?')\n",
    "pd.options.display.max_columns = 50\n",
    "print(cars.shape)\n",
    "cars.head()"
   ]
  },
  {
   "cell_type": "code",
   "execution_count": 2,
   "metadata": {},
   "outputs": [
    {
     "name": "stdout",
     "output_type": "stream",
     "text": [
      "<class 'pandas.core.frame.DataFrame'>\n",
      "RangeIndex: 205 entries, 0 to 204\n",
      "Data columns (total 26 columns):\n",
      "symboling            205 non-null int64\n",
      "normalized_losses    164 non-null float64\n",
      "make                 205 non-null object\n",
      "fuel_type            205 non-null object\n",
      "aspiration           205 non-null object\n",
      "doors                203 non-null object\n",
      "body_style           205 non-null object\n",
      "drivetrain           205 non-null object\n",
      "engine-location      205 non-null object\n",
      "wheel_base           205 non-null float64\n",
      "length               205 non-null float64\n",
      "width                205 non-null float64\n",
      "height               205 non-null float64\n",
      "curb_weight          205 non-null int64\n",
      "engine_type          205 non-null object\n",
      "num_cylinders        205 non-null object\n",
      "engine_size          205 non-null int64\n",
      "fuel_system          205 non-null object\n",
      "bore                 201 non-null float64\n",
      "stroke               201 non-null float64\n",
      "compression_ratio    205 non-null float64\n",
      "horsepower           203 non-null float64\n",
      "peak_rpm             203 non-null float64\n",
      "city_mpg             205 non-null int64\n",
      "highway_mpg          205 non-null int64\n",
      "price                201 non-null float64\n",
      "dtypes: float64(11), int64(5), object(10)\n",
      "memory usage: 41.7+ KB\n"
     ]
    }
   ],
   "source": [
    "cars.info()"
   ]
  },
  {
   "cell_type": "code",
   "execution_count": 3,
   "metadata": {
    "scrolled": true
   },
   "outputs": [],
   "source": [
    "# Replace missing values in normalized losses column with column mean\n",
    "\n",
    "cars.loc[cars['normalized_losses'].isnull(), 'normalized_losses'] = cars.normalized_losses.mean()"
   ]
  },
  {
   "cell_type": "code",
   "execution_count": 4,
   "metadata": {
    "scrolled": true
   },
   "outputs": [],
   "source": [
    "# Drop remaining rows with n/a values and reindex\n",
    "\n",
    "cars = cars.dropna(axis=0)\n",
    "cars.reset_index(inplace=True)"
   ]
  },
  {
   "cell_type": "code",
   "execution_count": 5,
   "metadata": {},
   "outputs": [],
   "source": [
    "# Remove non-numeric columns\n",
    "\n",
    "cols_to_keep = ['normalized_losses', 'wheel_base', 'length', 'width', 'height', 'curb_weight', \n",
    "                'bore', 'stroke', 'compression_ratio', 'horsepower', 'peak_rpm', 'city_mpg', \n",
    "                'highway_mpg', 'price']\n",
    "\n",
    "cars = cars[cols_to_keep]\n"
   ]
  },
  {
   "cell_type": "code",
   "execution_count": 6,
   "metadata": {},
   "outputs": [],
   "source": [
    "# Convert all cols to float dtype\n",
    "\n",
    "cars = cars.astype('float')"
   ]
  },
  {
   "cell_type": "code",
   "execution_count": 7,
   "metadata": {},
   "outputs": [],
   "source": [
    "# Normalize feature values from 0 to 1\n",
    "\n",
    "predict_cols = cars.columns.tolist()\n",
    "predict_cols.remove('price')\n",
    "\n",
    "for col in predict_cols:\n",
    "    cars[col] = (cars[col] - cars[col].min()) / (cars[col].max() - cars[col].min())\n",
    "    "
   ]
  },
  {
   "cell_type": "markdown",
   "metadata": {},
   "source": [
    "## Univariate Model"
   ]
  },
  {
   "cell_type": "code",
   "execution_count": 8,
   "metadata": {
    "scrolled": true
   },
   "outputs": [],
   "source": [
    "from sklearn.neighbors import KNeighborsRegressor\n",
    "from sklearn.metrics import mean_squared_error\n",
    "from sklearn.model_selection import cross_val_score, KFold\n",
    "\n",
    "# Create function to test univariate models\n",
    "\n",
    "def knn_train_test(df, feature, target_col, k=5):\n",
    "    ## Input params\n",
    "    # df = dataframe object\n",
    "    # feature = list containing a single column name string\n",
    "    # target_col = column name string to predict\n",
    "    # k = number of neighbors to use\n",
    "    \n",
    "    np.random.seed(1)\n",
    "    \n",
    "    # Randomize rows\n",
    "    shuffled_index = np.random.permutation(df.index)\n",
    "    rand_df = df.reindex(shuffled_index)\n",
    "    \n",
    "    #Split df into train/test\n",
    "    num_rows = rand_df.shape[0]\n",
    "    half = round(num_rows/2)\n",
    "    train_df = rand_df.iloc[:half]\n",
    "    test_df = rand_df.iloc[half:]\n",
    "    \n",
    "    \n",
    "    knn = KNeighborsRegressor(n_neighbors=k)\n",
    "    knn.fit(train_df[feature], train_df[target_col])\n",
    "    predictions = knn.predict(test_df[feature])\n",
    "    rmse = mean_squared_error(predictions, test_df[target_col])**.5\n",
    "    return rmse\n"
   ]
  },
  {
   "cell_type": "code",
   "execution_count": 9,
   "metadata": {},
   "outputs": [],
   "source": [
    "# Test univariate model on all columns using varied k values\n",
    "\n",
    "k_values = [1, 3, 5, 7, 9]\n",
    "\n",
    "def run_univ_model():\n",
    "    rmse_scores = []\n",
    "    for col in predict_cols:\n",
    "        for k_val in k_values:\n",
    "            rmse = knn_train_test(cars, [col], 'price', k_val)\n",
    "            result = [col, k_val, round(rmse)]\n",
    "            rmse_scores.append(result)\n",
    "    rmse_df = pd.DataFrame(rmse_scores, columns=['Column', 'k_value', 'RMSE'])\n",
    "    return rmse_df\n",
    "\n",
    "output = run_univ_model()"
   ]
  },
  {
   "cell_type": "code",
   "execution_count": 10,
   "metadata": {},
   "outputs": [
    {
     "data": {
      "text/plain": [
       "<matplotlib.legend.Legend at 0x1a194d7fd0>"
      ]
     },
     "execution_count": 10,
     "metadata": {},
     "output_type": "execute_result"
    },
    {
     "data": {
      "image/png": "[encoded data removed]",
      "text/plain": [
       "<Figure size 432x288 with 1 Axes>"
      ]
     },
     "metadata": {
      "needs_background": "light"
     },
     "output_type": "display_data"
    }
   ],
   "source": [
    "import seaborn as sns\n",
    "\n",
    "sns.lineplot(data=output, x='k_value', y='RMSE', hue='Column', palette='colorblind')\n",
    "plt.legend(bbox_to_anchor=(1.05, 1), loc=2, borderaxespad=0.)"
   ]
  },
  {
   "cell_type": "code",
   "execution_count": 11,
   "metadata": {},
   "outputs": [
    {
     "data": {
      "text/html": [
       "<div>\n",
       "<style scoped>\n",
       "    .dataframe tbody tr th:only-of-type {\n",
       "        vertical-align: middle;\n",
       "    }\n",
       "\n",
       "    .dataframe tbody tr th {\n",
       "        vertical-align: top;\n",
       "    }\n",
       "\n",
       "    .dataframe thead th {\n",
       "        text-align: right;\n",
       "    }\n",
       "</style>\n",
       "<table border=\"1\" class=\"dataframe\">\n",
       "  <thead>\n",
       "    <tr style=\"text-align: right;\">\n",
       "      <th></th>\n",
       "      <th>RMSE</th>\n",
       "    </tr>\n",
       "    <tr>\n",
       "      <th>Column</th>\n",
       "      <th></th>\n",
       "    </tr>\n",
       "  </thead>\n",
       "  <tbody>\n",
       "    <tr>\n",
       "      <th>curb_weight</th>\n",
       "      <td>4510.8</td>\n",
       "    </tr>\n",
       "    <tr>\n",
       "      <th>highway_mpg</th>\n",
       "      <td>4568.8</td>\n",
       "    </tr>\n",
       "    <tr>\n",
       "      <th>width</th>\n",
       "      <td>4617.2</td>\n",
       "    </tr>\n",
       "    <tr>\n",
       "      <th>city_mpg</th>\n",
       "      <td>4678.4</td>\n",
       "    </tr>\n",
       "    <tr>\n",
       "      <th>horsepower</th>\n",
       "      <td>4851.4</td>\n",
       "    </tr>\n",
       "  </tbody>\n",
       "</table>\n",
       "</div>"
      ],
      "text/plain": [
       "               RMSE\n",
       "Column             \n",
       "curb_weight  4510.8\n",
       "highway_mpg  4568.8\n",
       "width        4617.2\n",
       "city_mpg     4678.4\n",
       "horsepower   4851.4"
      ]
     },
     "execution_count": 11,
     "metadata": {},
     "output_type": "execute_result"
    }
   ],
   "source": [
    "# List top 5 features in order according to average rmse across k values\n",
    "\n",
    "top_5_univ_features = output.pivot_table(index='Column', values='RMSE') \\\n",
    "                            .sort_values(by='RMSE').iloc[:5]\n",
    "\n",
    "top_5_univ_features"
   ]
  },
  {
   "cell_type": "markdown",
   "metadata": {},
   "source": [
    "## Multivariate Model"
   ]
  },
  {
   "cell_type": "code",
   "execution_count": 12,
   "metadata": {},
   "outputs": [
    {
     "name": "stdout",
     "output_type": "stream",
     "text": [
      "Top 1 Features: 4277.0\n",
      "Top 2 Features: 4244.0\n",
      "Top 3 Features: 3771.0\n",
      "Top 4 Features: 3583.0\n",
      "Top 5 Features: 3688.0\n"
     ]
    }
   ],
   "source": [
    "# Test up to top 5 features from univariate model to create multivariate model\n",
    "\n",
    "def knn_multivar(df, features, target_col, k=None):\n",
    "    ## Input params\n",
    "    # df = dataframe object\n",
    "    # features = list containing features as strings\n",
    "    # target_col = column name string to predict\n",
    "    # k = number of neighbors to use\n",
    "    \n",
    "    np.random.seed(1)\n",
    "    \n",
    "    # Randomize rows\n",
    "    shuffled_index = np.random.permutation(df.index)\n",
    "    rand_df = df.reindex(shuffled_index)\n",
    "    \n",
    "    #Split df into train/test\n",
    "    num_rows = rand_df.shape[0]\n",
    "    half = round(num_rows/2)\n",
    "    train_df = rand_df.iloc[:half]\n",
    "    test_df = rand_df.iloc[half:]\n",
    "    \n",
    "    \n",
    "    knn = KNeighborsRegressor(n_neighbors=k)\n",
    "    knn.fit(train_df[features], train_df[target_col])\n",
    "    predictions = knn.predict(test_df[features])\n",
    "    rmse = mean_squared_error(predictions, test_df[target_col])**.5\n",
    "    return rmse\n",
    "\n",
    "for i in range(1,6):\n",
    "    val = round(knn_multivar(cars, list(top_5_univ_features.index[:i]),'price', k=5 ))\n",
    "    print('Top ' + str(i) + ' Features: ' + str(val))"
   ]
  },
  {
   "cell_type": "markdown",
   "metadata": {},
   "source": [
    "## Hyperparameter Tuning for Multivariate Model"
   ]
  },
  {
   "cell_type": "code",
   "execution_count": 13,
   "metadata": {},
   "outputs": [],
   "source": [
    "final_features = top_5_univ_features.index[0:4]\n",
    "tuning = []\n",
    "for i in range(1,26):\n",
    "    val = round(knn_multivar(cars, list(final_features), 'price', k=i))\n",
    "    tuning.append([i, val])\n",
    "    \n",
    "k_tuning_output = pd.DataFrame(tuning, columns=['K_value', 'RMSE'])"
   ]
  },
  {
   "cell_type": "code",
   "execution_count": 14,
   "metadata": {},
   "outputs": [
    {
     "data": {
      "text/plain": [
       "<matplotlib.axes._subplots.AxesSubplot at 0x1a1954cc88>"
      ]
     },
     "execution_count": 14,
     "metadata": {},
     "output_type": "execute_result"
    },
    {
     "data": {
      "image/png": "[encoded data removed]",
      "text/plain": [
       "<Figure size 432x288 with 1 Axes>"
      ]
     },
     "metadata": {
      "needs_background": "light"
     },
     "output_type": "display_data"
    }
   ],
   "source": [
    "sns.lineplot(data=k_tuning_output, x='K_value', y='RMSE')"
   ]
  },
  {
   "cell_type": "markdown",
   "metadata": {},
   "source": [
    "The multivariate model using the top 4 features with k = 1 generated the lowest RMSE thus far at 3583.0. "
   ]
  },
  {
   "cell_type": "markdown",
   "metadata": {},
   "source": [
    "## Tuning Multivariate Model using K-fold Cross Validation"
   ]
  },
  {
   "cell_type": "code",
   "execution_count": 15,
   "metadata": {},
   "outputs": [
    {
     "data": {
      "text/plain": [
       "3042.2338750580034"
      ]
     },
     "execution_count": 15,
     "metadata": {},
     "output_type": "execute_result"
    }
   ],
   "source": [
    "def knn_multivar_kfold(df, features, target_col, k=None, folds=10):\n",
    "    ## Input params\n",
    "    # df = dataframe object\n",
    "    # features = list containing features as strings\n",
    "    # target_col = column name string to predict\n",
    "    # k = number of neighbors to use\n",
    "    # folds = number of folds to use for cross validation\n",
    "    \n",
    "    kf = KFold(folds, shuffle=True, random_state=2)\n",
    "    knn = KNeighborsRegressor(n_neighbors=k)\n",
    "    mses = cross_val_score(knn, df[features], df[target_col], scoring='neg_mean_squared_error', cv=kf)\n",
    "    rmses = []\n",
    "    for mse in mses:\n",
    "        rmses.append(np.absolute(mse)**.5)\n",
    "    \n",
    "    avg_rmse = np.mean(rmses)\n",
    "    return avg_rmse\n",
    "\n",
    "knn_multivar_kfold(cars, final_features, 'price', k=2)"
   ]
  },
  {
   "cell_type": "markdown",
   "metadata": {},
   "source": [
    "## Display Cross Fold Distribution for 2-20 Folds with Hand Tuned K-value"
   ]
  },
  {
   "cell_type": "code",
   "execution_count": 16,
   "metadata": {},
   "outputs": [
    {
     "data": {
      "image/png": "[encoded data removed]",
      "text/plain": [
       "<Figure size 432x288 with 1 Axes>"
      ]
     },
     "metadata": {
      "needs_background": "light"
     },
     "output_type": "display_data"
    }
   ],
   "source": [
    "avg_rmses = []\n",
    "\n",
    "for i in range(2,21):\n",
    "    avg_rmse = knn_multivar_kfold(cars, final_features, 'price', k=2, folds=i)\n",
    "    avg_rmses.append([i, round(avg_rmse)])\n",
    "    \n",
    "avg_rmses = pd.DataFrame(avg_rmses, columns=['folds', 'avg_rmse'])\n",
    "sns.lineplot(data=avg_rmses, x='folds', y='avg_rmse')\n",
    "ticks = plt.xticks(np.arange(0,21,2))"
   ]
  },
  {
   "cell_type": "code",
   "execution_count": null,
   "metadata": {},
   "outputs": [],
   "source": []
  }
 ],
 "metadata": {
  "kernelspec": {
   "display_name": "Python 3",
   "language": "python",
   "name": "python3"
  },
  "language_info": {
   "codemirror_mode": {
    "name": "ipython",
    "version": 3
   },
   "file_extension": ".py",
   "mimetype": "text/x-python",
   "name": "python",
   "nbconvert_exporter": "python",
   "pygments_lexer": "ipython3",
   "version": "3.7.1"
  }
 },
 "nbformat": 4,
 "nbformat_minor": 2
}
